{
  "cells": [
    {
      "cell_type": "markdown",
      "metadata": {
        "id": "view-in-github",
        "colab_type": "text"
      },
      "source": [
        "<a href=\"https://colab.research.google.com/github/ivx27/ivx27/blob/main/Lab_Assignment_NumPy.ipynb\" target=\"_parent\"><img src=\"https://colab.research.google.com/assets/colab-badge.svg\" alt=\"Open In Colab\"/></a>"
      ]
    },
    {
      "cell_type": "markdown",
      "metadata": {
        "id": "a0eCMwNAv1rV"
      },
      "source": [
        "## Exercises   Numpy\n",
        "\n",
        "\n",
        "*(Type you code in the below cell)*"
      ]
    },
    {
      "cell_type": "code",
      "source": [
        "import numpy as np\n",
        "import matplotlib.pyplot as plt\n",
        "\n",
        "# data to plot\n",
        "n_groups = 5\n",
        "men_means = (22, 30, 33, 30, 26)\n",
        "women_means = (25, 32, 30, 35, 29)\n",
        "\n",
        "# create plot\n",
        "fig, ax = plt.subplots()\n",
        "index = np.arange(n_groups)\n",
        "bar_width = 0.35\n",
        "opacity = 0.8\n",
        "\n",
        "rects1 = plt.bar(index, men_means, bar_width,\n",
        "alpha=opacity,\n",
        "color='g',\n",
        "label='Men')\n",
        "\n",
        "rects2 = plt.bar(index + bar_width, women_means, bar_width,\n",
        "alpha=opacity,\n",
        "color='r',\n",
        "label='Women')\n",
        "\n",
        "plt.xlabel('Person')\n",
        "plt.ylabel('Scores')\n",
        "plt.title('Scores by person')\n",
        "plt.xticks(index + bar_width, ('G1', 'G2', 'G3', 'G4', 'G5'))\n",
        "plt.legend()\n",
        "\n",
        "plt.tight_layout()\n",
        "plt.show()"
      ],
      "metadata": {
        "colab": {
          "base_uri": "https://localhost:8080/",
          "height": 296
        },
        "id": "X2JkOLQcI2VA",
        "outputId": "de73a9e3-bbca-4238-c5b6-efc043122bdf"
      },
      "execution_count": null,
      "outputs": [
        {
          "output_type": "display_data",
          "data": {
            "text/plain": [
              "<Figure size 432x288 with 1 Axes>"
            ],
            "image/png": "[encoded data removed]"
          },
          "metadata": {
            "needs_background": "light"
          }
        }
      ]
    },
    {
      "cell_type": "markdown",
      "source": [
        "IMAAD INAYATH 20191ISE0221"
      ],
      "metadata": {
        "id": "-z_gQSbJGgno"
      }
    },
    {
      "cell_type": "markdown",
      "metadata": {
        "id": "DA-GknJMv1rV"
      },
      "source": [
        "1. **Write a NumPy program to convert a list of numeric value into a one-dimensional NumPy array.**\n",
        "\n",
        "*Expected Output:*\n",
        "\n",
        "Original List: [12.23, 13.32, 100, 36.32]\n",
        "\n",
        "One-dimensional NumPy array: [ 12.23 13.32 100. 36.32]\n"
      ]
    },
    {
      "cell_type": "code",
      "execution_count": null,
      "metadata": {
        "colab": {
          "base_uri": "https://localhost:8080/"
        },
        "id": "UvTCFI6ov1rW",
        "outputId": "634efea6-10cb-49d9-b2ed-9b865b962463"
      },
      "outputs": [
        {
          "output_type": "execute_result",
          "data": {
            "text/plain": [
              "array([ 12.23,  13.32, 100.  ,  36.32])"
            ]
          },
          "metadata": {},
          "execution_count": 1
        }
      ],
      "source": [
        "import numpy as np\n",
        "a = [12.23, 13.32, 100, 36.32]\n",
        "np.array(a)"
      ]
    },
    {
      "cell_type": "markdown",
      "metadata": {
        "id": "P2wn-Ewov1rY"
      },
      "source": [
        "2. **Write a NumPy program to create a 3x3 matrix with values ranging from 2 to 10.**\n",
        "\n",
        "*Expected Output:*\n",
        "\n",
        "[[ 2 3 4]\n",
        "[ 5 6 7]\n",
        "[ 8 9 10]]"
      ]
    },
    {
      "cell_type": "code",
      "execution_count": null,
      "metadata": {
        "colab": {
          "base_uri": "https://localhost:8080/"
        },
        "id": "FHvScdg_v1rZ",
        "outputId": "2b908878-6775-4ac6-c5c6-e5711004b87c"
      },
      "outputs": [
        {
          "output_type": "execute_result",
          "data": {
            "text/plain": [
              "array([[ 2,  3,  4],\n",
              "       [ 5,  6,  7],\n",
              "       [ 8,  9, 10]])"
            ]
          },
          "metadata": {},
          "execution_count": 2
        }
      ],
      "source": [
        "np.array([[2,3,4],[ 5,6,7],[ 8,9,10]])"
      ]
    },
    {
      "cell_type": "markdown",
      "metadata": {
        "id": "_a6h9otmv1rb"
      },
      "source": [
        "3. *Write a NumPy program to sort an along the first, last axis of an array.**\n",
        "\n",
        "Sample array: [[2,5],[4,4]]\n",
        "    \n",
        "*Expected Output:*\n",
        "    \n",
        "Original array:\n",
        "[[4 6]\n",
        "[2 1]]\n",
        "\n",
        "Sort along the first axis:\n",
        "[[2 1]\n",
        "[4 6]]\n",
        "\n",
        "Sort along the last axis:\n",
        "[[1 2]\n",
        "[4 6]]"
      ]
    },
    {
      "cell_type": "code",
      "execution_count": null,
      "metadata": {
        "colab": {
          "base_uri": "https://localhost:8080/"
        },
        "id": "cOCcjnYSv1rb",
        "outputId": "174d77cf-0dd2-4357-fa09-ebd9e1afb53a"
      },
      "outputs": [
        {
          "output_type": "stream",
          "name": "stdout",
          "text": [
            "[[4 6]\n",
            " [2 1]]\n",
            "---------------------------------------------------------\n",
            "[[2 1]\n",
            " [4 6]]\n",
            "---------------------------------------------------------\n",
            "[[4 6]\n",
            " [1 2]]\n"
          ]
        }
      ],
      "source": [
        "a = np.array([[4,6],[2,1]])\n",
        "print(a)\n",
        "print(\"---------------------------------------------------------\")\n",
        "print(np.sort(a,axis = 0))\n",
        "print(\"---------------------------------------------------------\")\n",
        "print(np.sort(a,axis=1))"
      ]
    },
    {
      "cell_type": "markdown",
      "metadata": {
        "id": "tryHaK03v1rd"
      },
      "source": [
        "4. **Write a NumPy program to create a contiguous flattened array.**\n",
        "\n",
        "*Expected Output:*\n",
        "\n",
        "Original array:\n",
        "[[10 20 30]\n",
        "[20 40 50]]\n",
        "\n",
        "New flattened array:\n",
        "[10 20 30 20 40 50]"
      ]
    },
    {
      "cell_type": "code",
      "execution_count": null,
      "metadata": {
        "colab": {
          "base_uri": "https://localhost:8080/"
        },
        "id": "PY5-r9-jv1rd",
        "outputId": "ea943187-5236-41cd-cb44-b32d2ac99665"
      },
      "outputs": [
        {
          "output_type": "execute_result",
          "data": {
            "text/plain": [
              "array([10, 20, 30, 20, 40, 50])"
            ]
          },
          "metadata": {},
          "execution_count": 4
        }
      ],
      "source": [
        "(np.array([[10,20,30],[20,40,50]]).flatten())"
      ]
    },
    {
      "cell_type": "markdown",
      "metadata": {
        "id": "_YOVMEDEv1re"
      },
      "source": [
        " 5. **Write a NumPy program to display all the dates for the month of March, 2017.**\n",
        "\n",
        "*Expected Output:*\n",
        "\n",
        "March, 2017\n",
        "\n",
        "['2017-03-01' '2017-03-02' '2017-03-03' '2017-03-04' '2017-03-05'\n",
        "'2017-03-06' '2017-03-07' '2017-03-08' '2017-03-09' '2017-03-10'\n",
        "'2017-03-11' '2017-03-12' '2017-03-13' '2017-03-14' '2017-03-15'\n",
        "'2017-03-16' '2017-03-17' '2017-03-18' '2017-03-19' '2017-03-20'\n",
        "'2017-03-21' '2017-03-22' '2017-03-23' '2017-03-24' '2017-03-25'\n",
        "'2017-03-26' '2017-03-27' '2017-03-28' '2017-03-29' '2017-03-30'\n",
        "'2017-03-31']"
      ]
    },
    {
      "cell_type": "code",
      "execution_count": null,
      "metadata": {
        "colab": {
          "base_uri": "https://localhost:8080/"
        },
        "id": "fEsTbFVuv1re",
        "outputId": "7e294124-cade-4945-8941-44227f8239db"
      },
      "outputs": [
        {
          "output_type": "stream",
          "name": "stdout",
          "text": [
            "March,2017\n",
            "\n",
            "['2017-03-01' '2017-03-02' '2017-03-03' '2017-03-04' '2017-03-05'\n",
            " '2017-03-06' '2017-03-07' '2017-03-08' '2017-03-09' '2017-03-10'\n",
            " '2017-03-11' '2017-03-12' '2017-03-13' '2017-03-14' '2017-03-15'\n",
            " '2017-03-16' '2017-03-17' '2017-03-18' '2017-03-19' '2017-03-20'\n",
            " '2017-03-21' '2017-03-22' '2017-03-23' '2017-03-24' '2017-03-25'\n",
            " '2017-03-26' '2017-03-27' '2017-03-28' '2017-03-29' '2017-03-30'\n",
            " '2017-03-31']\n"
          ]
        }
      ],
      "source": [
        "print(\"March,2017\\n\")\n",
        "print(np.arange(\"2017-03\",\"2017-04\",dtype = \"datetime64[D]\"))"
      ]
    },
    {
      "cell_type": "markdown",
      "metadata": {
        "id": "q9LCybDwv1rg"
      },
      "source": [
        " 6. **Write a NumPy program to generate six random integers between 10 and 30.**\n",
        "\n",
        "*Expected Output:*\n",
        "    \n",
        "[20 28 27 17 28 29]"
      ]
    },
    {
      "cell_type": "code",
      "execution_count": null,
      "metadata": {
        "colab": {
          "base_uri": "https://localhost:8080/"
        },
        "id": "cEz_cUMlv1rg",
        "outputId": "e79dab39-8903-4368-fe27-52cf0ef781aa"
      },
      "outputs": [
        {
          "output_type": "execute_result",
          "data": {
            "text/plain": [
              "array([13, 10, 19, 19, 14, 25])"
            ]
          },
          "metadata": {},
          "execution_count": 6
        }
      ],
      "source": [
        "np.random.randint(10,30,size = 6)"
      ]
    },
    {
      "cell_type": "markdown",
      "metadata": {
        "id": "OSwPjeHkv1rj"
      },
      "source": [
        "7. **Write a NumPy program to create a 5x5 array with random values and find the minimum and maximum values.**\n",
        "\n",
        "*Expected Output*\n",
        "\n",
        "Original Array:\n",
        "    \n",
        "[[ 0.96336355 0.12339131 0.20295196 0.37243578 0.88105252]\n",
        "[ 0.93228246 0.67470158 0.38103235 0.32242645 0.40610231]\n",
        "[ 0.3113495 0.31688 0.79189089 0.08676434 0.60829874]\n",
        "[ 0.30360149 0.94316317 0.98142491 0.77222542 0.51532195]\n",
        "[ 0.97392305 0.16669609 0.81377917 0.2165645 0.00121611]]\n",
        "\n",
        "Minimum and Maximum Values:\n",
        "    \n",
        "0.00121610921757 0.981424910368"
      ]
    },
    {
      "cell_type": "code",
      "execution_count": null,
      "metadata": {
        "colab": {
          "base_uri": "https://localhost:8080/"
        },
        "id": "Tx6CpEf0v1rj",
        "outputId": "d206fdf2-bbac-448f-e877-a889c42c9582"
      },
      "outputs": [
        {
          "output_type": "stream",
          "name": "stdout",
          "text": [
            "[[24 18 10 12 28]\n",
            " [27 14 13 22 25]\n",
            " [24 27 26 24 19]\n",
            " [16 29 28 27 24]\n",
            " [22 14 19 18 13]]\n",
            "---------------------------------------------------\n",
            "Minimum is  10\n",
            "Maximum is  29\n"
          ]
        }
      ],
      "source": [
        "arr = np.random.randint(10,30,size = 25)\n",
        "arr = np.reshape(arr,(5,5))\n",
        "print(arr)\n",
        "print(\"---------------------------------------------------\")\n",
        "print(\"Minimum is \",arr.min())\n",
        "print(\"Maximum is \",arr.max())"
      ]
    },
    {
      "cell_type": "markdown",
      "metadata": {
        "id": "_Zx1Pdftv1rl"
      },
      "source": [
        "8. **Write a NumPy program to get the powers of an array values element-wise.**\n",
        "\n",
        "Note: First array elements raised to powers from second array\n",
        "    \n",
        "*Expected Output:*\n",
        "    \n",
        "Original array\n",
        "\n",
        "[0 1 2 3 4 5 6]\n",
        "\n",
        "First array elements raised to powers from second array, element-wise:\n",
        "    \n",
        "[ 0 1 8 27 64 125 216]"
      ]
    },
    {
      "cell_type": "code",
      "execution_count": null,
      "metadata": {
        "colab": {
          "base_uri": "https://localhost:8080/"
        },
        "id": "V2K9pO1Lv1rl",
        "outputId": "08ac02d4-2691-4b31-e03e-2a0729cce302"
      },
      "outputs": [
        {
          "output_type": "stream",
          "name": "stdout",
          "text": [
            "[  0   1   8  27  64 125 216]\n"
          ]
        }
      ],
      "source": [
        "arr = np.array([0,1,2,3,4,5,6])\n",
        "print(arr**3)"
      ]
    },
    {
      "cell_type": "markdown",
      "metadata": {
        "id": "aNR9gxURv1rp"
      },
      "source": [
        "9. **Write a NumPy program to create a structured array from given student name, height, class and their data types. Now sort the array on height.**\n",
        "\n",
        "*Expected Output:*\n",
        "\n",
        "Original array:\n",
        "\n",
        "[(b'James', 5, 48.5 ) (b'Nail', 6, 52.5 ) (b'Paul', 5, 42.1 )\n",
        "(b'Pit', 5, 40.11)]\n",
        "\n",
        "Sort by height\n",
        "\n",
        "[(b'Pit', 5, 40.11) (b'Paul', 5, 42.1 ) (b'James', 5, 48.5 )\n",
        "(b'Nail', 6, 52.5 )]"
      ]
    },
    {
      "cell_type": "code",
      "execution_count": null,
      "metadata": {
        "colab": {
          "base_uri": "https://localhost:8080/"
        },
        "id": "VicYFmrPv1rq",
        "outputId": "96adeea3-322d-4c7c-ec5f-a110d7edc9a9"
      },
      "outputs": [
        {
          "output_type": "execute_result",
          "data": {
            "text/plain": [
              "array([['James', '5', '40.11'],\n",
              "       ['Nail', '5', '42.1'],\n",
              "       ['Paul', '5', '48.5'],\n",
              "       ['Pit', '6', '52.5']], dtype='<U32')"
            ]
          },
          "metadata": {},
          "execution_count": 9
        }
      ],
      "source": [
        "arr = np.array([('James', 5, 48.5 ),('Nail', 6, 52.5 ),('Paul', 5, 42.1 ),('Pit', 5, 40.11)])\n",
        "np.sort(arr,axis = 0)"
      ]
    },
    {
      "cell_type": "markdown",
      "metadata": {
        "id": "h7nQkTJIv1rs"
      },
      "source": [
        "10. **Write a NumPy program to sort the student id with increasing height of the students from given students id and height. Print the integer indices that describes the sort order by multiple columns and the sorted data.**\n",
        "\n",
        "*Expected Output:*\n",
        "\n",
        "Sorted indices\n",
        "\n",
        "[4 0 5 3 6 1 2]\n",
        "\n",
        "Sorted data:\n",
        "\n",
        "1682 38.0\n",
        "1023 40.0\n",
        "5241 40.0\n",
        "1671 41.0\n",
        "4532 42.0\n",
        "5202 42.0\n",
        "6230 45.0"
      ]
    },
    {
      "cell_type": "code",
      "execution_count": null,
      "metadata": {
        "colab": {
          "base_uri": "https://localhost:8080/"
        },
        "id": "yMeEKouxv1rt",
        "outputId": "397955f4-40b5-4a33-b25c-3c1728a6f987"
      },
      "outputs": [
        {
          "output_type": "stream",
          "name": "stdout",
          "text": [
            "ID : 4    Height : 150\n",
            "ID : 8    Height : 165\n",
            "ID : 2    Height : 168\n",
            "ID : 5    Height : 168\n",
            "ID : 1    Height : 170\n",
            "ID : 3    Height : 178\n",
            "ID : 4    Height : 180\n",
            "ID : 7    Height : 192\n"
          ]
        },
        {
          "output_type": "execute_result",
          "data": {
            "text/plain": [
              "array([4, 7, 3, 5, 6, 2, 1, 0])"
            ]
          },
          "metadata": {},
          "execution_count": 10
        }
      ],
      "source": [
        "import numpy as np\n",
        "height = np.array([192,180,178,168,150,168,170,165])\n",
        "id = np.array([7,4,3,2,4,5,1,8])\n",
        "ids = np.lexsort((id,height))\n",
        "for i in ids:\n",
        "    print(\"ID : {0}    Height : {1}\".format(id[i],height[i]))\n",
        "\n",
        "ids"
      ]
    },
    {
      "cell_type": "code",
      "execution_count": null,
      "metadata": {
        "colab": {
          "base_uri": "https://localhost:8080/"
        },
        "id": "_JY1x-MTENVQ",
        "outputId": "add1ca9a-57df-4564-d316-744af3628ca6"
      },
      "outputs": [
        {
          "output_type": "stream",
          "name": "stdout",
          "text": [
            "Help on function lexsort in module numpy:\n",
            "\n",
            "lexsort(...)\n",
            "    lexsort(keys, axis=-1)\n",
            "    \n",
            "    Perform an indirect stable sort using a sequence of keys.\n",
            "    \n",
            "    Given multiple sorting keys, which can be interpreted as columns in a\n",
            "    spreadsheet, lexsort returns an array of integer indices that describes\n",
            "    the sort order by multiple columns. The last key in the sequence is used\n",
            "    for the primary sort order, the second-to-last key for the secondary sort\n",
            "    order, and so on. The keys argument must be a sequence of objects that\n",
            "    can be converted to arrays of the same shape. If a 2D array is provided\n",
            "    for the keys argument, its rows are interpreted as the sorting keys and\n",
            "    sorting is according to the last row, second last row etc.\n",
            "    \n",
            "    Parameters\n",
            "    ----------\n",
            "    keys : (k, N) array or tuple containing k (N,)-shaped sequences\n",
            "        The `k` different \"columns\" to be sorted.  The last column (or row if\n",
            "        `keys` is a 2D array) is the primary sort key.\n",
            "    axis : int, optional\n",
            "        Axis to be indirectly sorted.  By default, sort over the last axis.\n",
            "    \n",
            "    Returns\n",
            "    -------\n",
            "    indices : (N,) ndarray of ints\n",
            "        Array of indices that sort the keys along the specified axis.\n",
            "    \n",
            "    See Also\n",
            "    --------\n",
            "    argsort : Indirect sort.\n",
            "    ndarray.sort : In-place sort.\n",
            "    sort : Return a sorted copy of an array.\n",
            "    \n",
            "    Examples\n",
            "    --------\n",
            "    Sort names: first by surname, then by name.\n",
            "    \n",
            "    >>> surnames =    ('Hertz',    'Galilei', 'Hertz')\n",
            "    >>> first_names = ('Heinrich', 'Galileo', 'Gustav')\n",
            "    >>> ind = np.lexsort((first_names, surnames))\n",
            "    >>> ind\n",
            "    array([1, 2, 0])\n",
            "    \n",
            "    >>> [surnames[i] + \", \" + first_names[i] for i in ind]\n",
            "    ['Galilei, Galileo', 'Hertz, Gustav', 'Hertz, Heinrich']\n",
            "    \n",
            "    Sort two columns of numbers:\n",
            "    \n",
            "    >>> a = [1,5,1,4,3,4,4] # First column\n",
            "    >>> b = [9,4,0,4,0,2,1] # Second column\n",
            "    >>> ind = np.lexsort((b,a)) # Sort by a, then by b\n",
            "    >>> ind\n",
            "    array([2, 0, 4, 6, 5, 3, 1])\n",
            "    \n",
            "    >>> [(a[i],b[i]) for i in ind]\n",
            "    [(1, 0), (1, 9), (3, 0), (4, 1), (4, 2), (4, 4), (5, 4)]\n",
            "    \n",
            "    Note that sorting is first according to the elements of ``a``.\n",
            "    Secondary sorting is according to the elements of ``b``.\n",
            "    \n",
            "    A normal ``argsort`` would have yielded:\n",
            "    \n",
            "    >>> [(a[i],b[i]) for i in np.argsort(a)]\n",
            "    [(1, 9), (1, 0), (3, 0), (4, 4), (4, 2), (4, 1), (5, 4)]\n",
            "    \n",
            "    Structured arrays are sorted lexically by ``argsort``:\n",
            "    \n",
            "    >>> x = np.array([(1,9), (5,4), (1,0), (4,4), (3,0), (4,2), (4,1)],\n",
            "    ...              dtype=np.dtype([('x', int), ('y', int)]))\n",
            "    \n",
            "    >>> np.argsort(x) # or np.argsort(x, order=('x', 'y'))\n",
            "    array([2, 0, 4, 6, 5, 3, 1])\n",
            "\n"
          ]
        }
      ],
      "source": [
        "help(np.lexsort)"
      ]
    },
    {
      "cell_type": "markdown",
      "metadata": {
        "id": "9-drG9U3TwNB"
      },
      "source": [
        "##  Exercises Pandas\n"
      ]
    },
    {
      "cell_type": "code",
      "execution_count": null,
      "metadata": {
        "colab": {
          "base_uri": "https://localhost:8080/"
        },
        "id": "cHHUFbLFTwM9",
        "outputId": "8aa87449-7157-450b-8ae9-bcc46c279a2e"
      },
      "outputs": [
        {
          "output_type": "execute_result",
          "data": {
            "text/plain": [
              "[(100, 'B100', 'BOS'),\n",
              " (130, 'J101', 'LA'),\n",
              " (119, 'X102', 'NYC'),\n",
              " (92, 'P103', 'SF'),\n",
              " (35, 'R104', 'CHI')]"
            ]
          },
          "metadata": {},
          "execution_count": 12
        }
      ],
      "source": [
        "import pandas as pd\n",
        "sales = [100,130,119,92,35]\n",
        "customer_account = ['B100','J101','X102','P103','R104']\n",
        "city = ['BOS','LA','NYC','SF','CHI']\n",
        "data = list(zip(sales,customer_account,city))\n",
        "data"
      ]
    },
    {
      "cell_type": "markdown",
      "metadata": {
        "id": "0VhkInt6TwM8"
      },
      "source": [
        "**11. Create a DataFrame with the data above**"
      ]
    },
    {
      "cell_type": "code",
      "execution_count": null,
      "metadata": {
        "colab": {
          "base_uri": "https://localhost:8080/",
          "height": 201
        },
        "id": "nzUWpWS-TwM6",
        "outputId": "f7b0d409-60c8-4a25-bb43-6206385f5e10"
      },
      "outputs": [
        {
          "output_type": "execute_result",
          "data": {
            "text/plain": [
              "   sales customer_account city\n",
              "0    100             B100  BOS\n",
              "1    130             J101   LA\n",
              "2    119             X102  NYC\n",
              "3     92             P103   SF\n",
              "4     35             R104  CHI"
            ],
            "text/html": [
              "\n",
              "  <div id=\"df-9ccd5006-33d1-4129-9b98-75e531afb753\">\n",
              "    <div class=\"colab-df-container\">\n",
              "      <div>\n",
              "<style scoped>\n",
              "    .dataframe tbody tr th:only-of-type {\n",
              "        vertical-align: middle;\n",
              "    }\n",
              "\n",
              "    .dataframe tbody tr th {\n",
              "        vertical-align: top;\n",
              "    }\n",
              "\n",
              "    .dataframe thead th {\n",
              "        text-align: right;\n",
              "    }\n",
              "</style>\n",
              "<table border=\"1\" class=\"dataframe\">\n",
              "  <thead>\n",
              "    <tr style=\"text-align: right;\">\n",
              "      <th></th>\n",
              "      <th>sales</th>\n",
              "      <th>customer_account</th>\n",
              "      <th>city</th>\n",
              "    </tr>\n",
              "  </thead>\n",
              "  <tbody>\n",
              "    <tr>\n",
              "      <th>0</th>\n",
              "      <td>100</td>\n",
              "      <td>B100</td>\n",
              "      <td>BOS</td>\n",
              "    </tr>\n",
              "    <tr>\n",
              "      <th>1</th>\n",
              "      <td>130</td>\n",
              "      <td>J101</td>\n",
              "      <td>LA</td>\n",
              "    </tr>\n",
              "    <tr>\n",
              "      <th>2</th>\n",
              "      <td>119</td>\n",
              "      <td>X102</td>\n",
              "      <td>NYC</td>\n",
              "    </tr>\n",
              "    <tr>\n",
              "      <th>3</th>\n",
              "      <td>92</td>\n",
              "      <td>P103</td>\n",
              "      <td>SF</td>\n",
              "    </tr>\n",
              "    <tr>\n",
              "      <th>4</th>\n",
              "      <td>35</td>\n",
              "      <td>R104</td>\n",
              "      <td>CHI</td>\n",
              "    </tr>\n",
              "  </tbody>\n",
              "</table>\n",
              "</div>\n",
              "      <button class=\"colab-df-convert\" onclick=\"convertToInteractive('df-9ccd5006-33d1-4129-9b98-75e531afb753')\"\n",
              "              title=\"Convert this dataframe to an interactive table.\"\n",
              "              style=\"display:none;\">\n",
              "        \n",
              "  <svg xmlns=\"http://www.w3.org/2000/svg\" height=\"24px\"viewBox=\"0 0 24 24\"\n",
              "       width=\"24px\">\n",
              "    <path d=\"M0 0h24v24H0V0z\" fill=\"none\"/>\n",
              "    <path d=\"M18.56 5.44l.94 2.06.94-2.06 2.06-.94-2.06-.94-.94-2.06-.94 2.06-2.06.94zm-11 1L8.5 8.5l.94-2.06 2.06-.94-2.06-.94L8.5 2.5l-.94 2.06-2.06.94zm10 10l.94 2.06.94-2.06 2.06-.94-2.06-.94-.94-2.06-.94 2.06-2.06.94z\"/><path d=\"M17.41 7.96l-1.37-1.37c-.4-.4-.92-.59-1.43-.59-.52 0-1.04.2-1.43.59L10.3 9.45l-7.72 7.72c-.78.78-.78 2.05 0 2.83L4 21.41c.39.39.9.59 1.41.59.51 0 1.02-.2 1.41-.59l7.78-7.78 2.81-2.81c.8-.78.8-2.07 0-2.86zM5.41 20L4 18.59l7.72-7.72 1.47 1.35L5.41 20z\"/>\n",
              "  </svg>\n",
              "      </button>\n",
              "      \n",
              "  <style>\n",
              "    .colab-df-container {\n",
              "      display:flex;\n",
              "      flex-wrap:wrap;\n",
              "      gap: 12px;\n",
              "    }\n",
              "\n",
              "    .colab-df-convert {\n",
              "      background-color: #E8F0FE;\n",
              "      border: none;\n",
              "      border-radius: 50%;\n",
              "      cursor: pointer;\n",
              "      display: none;\n",
              "      fill: #1967D2;\n",
              "      height: 32px;\n",
              "      padding: 0 0 0 0;\n",
              "      width: 32px;\n",
              "    }\n",
              "\n",
              "    .colab-df-convert:hover {\n",
              "      background-color: #E2EBFA;\n",
              "      box-shadow: 0px 1px 2px rgba(60, 64, 67, 0.3), 0px 1px 3px 1px rgba(60, 64, 67, 0.15);\n",
              "      fill: #174EA6;\n",
              "    }\n",
              "\n",
              "    [theme=dark] .colab-df-convert {\n",
              "      background-color: #3B4455;\n",
              "      fill: #D2E3FC;\n",
              "    }\n",
              "\n",
              "    [theme=dark] .colab-df-convert:hover {\n",
              "      background-color: #434B5C;\n",
              "      box-shadow: 0px 1px 3px 1px rgba(0, 0, 0, 0.15);\n",
              "      filter: drop-shadow(0px 1px 2px rgba(0, 0, 0, 0.3));\n",
              "      fill: #FFFFFF;\n",
              "    }\n",
              "  </style>\n",
              "\n",
              "      <script>\n",
              "        const buttonEl =\n",
              "          document.querySelector('#df-9ccd5006-33d1-4129-9b98-75e531afb753 button.colab-df-convert');\n",
              "        buttonEl.style.display =\n",
              "          google.colab.kernel.accessAllowed ? 'block' : 'none';\n",
              "\n",
              "        async function convertToInteractive(key) {\n",
              "          const element = document.querySelector('#df-9ccd5006-33d1-4129-9b98-75e531afb753');\n",
              "          const dataTable =\n",
              "            await google.colab.kernel.invokeFunction('convertToInteractive',\n",
              "                                                     [key], {});\n",
              "          if (!dataTable) return;\n",
              "\n",
              "          const docLinkHtml = 'Like what you see? Visit the ' +\n",
              "            '<a target=\"_blank\" href=https://colab.research.google.com/notebooks/data_table.ipynb>data table notebook</a>'\n",
              "            + ' to learn more about interactive tables.';\n",
              "          element.innerHTML = '';\n",
              "          dataTable['output_type'] = 'display_data';\n",
              "          await google.colab.output.renderOutput(dataTable, element);\n",
              "          const docLink = document.createElement('div');\n",
              "          docLink.innerHTML = docLinkHtml;\n",
              "          element.appendChild(docLink);\n",
              "        }\n",
              "      </script>\n",
              "    </div>\n",
              "  </div>\n",
              "  "
            ]
          },
          "metadata": {},
          "execution_count": 13
        }
      ],
      "source": [
        "import pandas as pd\n",
        "columns = [\"sales\",\"customer_account\",\"city\"]\n",
        "df = pd.DataFrame(data = data,columns = columns)\n",
        "df"
      ]
    },
    {
      "cell_type": "markdown",
      "metadata": {
        "id": "tmYB4B32TwMy"
      },
      "source": [
        "**12. What is the name of the first column?**"
      ]
    },
    {
      "cell_type": "code",
      "execution_count": null,
      "metadata": {
        "colab": {
          "base_uri": "https://localhost:8080/"
        },
        "id": "5Rogy8ehTwMn",
        "outputId": "fd0abfb5-bc2d-4e02-867e-50aff398e8c2"
      },
      "outputs": [
        {
          "output_type": "execute_result",
          "data": {
            "text/plain": [
              "0    B100\n",
              "1    J101\n",
              "2    X102\n",
              "3    P103\n",
              "4    R104\n",
              "Name: customer_account, dtype: object"
            ]
          },
          "metadata": {},
          "execution_count": 14
        }
      ],
      "source": [
        "df[\"customer_account\"]"
      ]
    },
    {
      "cell_type": "markdown",
      "metadata": {
        "id": "_SA2hdsLTwMl"
      },
      "source": [
        "13. **Sort the DataFrame by city in descending order (check the documentation for sort)**"
      ]
    },
    {
      "cell_type": "code",
      "execution_count": null,
      "metadata": {
        "colab": {
          "base_uri": "https://localhost:8080/",
          "height": 201
        },
        "id": "qpE0t45cTwMY",
        "outputId": "7b1967c2-18cc-4a70-e1b7-6dc225327063"
      },
      "outputs": [
        {
          "output_type": "execute_result",
          "data": {
            "text/plain": [
              "   sales customer_account city\n",
              "3     92             P103   SF\n",
              "2    119             X102  NYC\n",
              "1    130             J101   LA\n",
              "4     35             R104  CHI\n",
              "0    100             B100  BOS"
            ],
            "text/html": [
              "\n",
              "  <div id=\"df-e040a0e9-d6a5-47ce-850d-1f1c57ca8814\">\n",
              "    <div class=\"colab-df-container\">\n",
              "      <div>\n",
              "<style scoped>\n",
              "    .dataframe tbody tr th:only-of-type {\n",
              "        vertical-align: middle;\n",
              "    }\n",
              "\n",
              "    .dataframe tbody tr th {\n",
              "        vertical-align: top;\n",
              "    }\n",
              "\n",
              "    .dataframe thead th {\n",
              "        text-align: right;\n",
              "    }\n",
              "</style>\n",
              "<table border=\"1\" class=\"dataframe\">\n",
              "  <thead>\n",
              "    <tr style=\"text-align: right;\">\n",
              "      <th></th>\n",
              "      <th>sales</th>\n",
              "      <th>customer_account</th>\n",
              "      <th>city</th>\n",
              "    </tr>\n",
              "  </thead>\n",
              "  <tbody>\n",
              "    <tr>\n",
              "      <th>3</th>\n",
              "      <td>92</td>\n",
              "      <td>P103</td>\n",
              "      <td>SF</td>\n",
              "    </tr>\n",
              "    <tr>\n",
              "      <th>2</th>\n",
              "      <td>119</td>\n",
              "      <td>X102</td>\n",
              "      <td>NYC</td>\n",
              "    </tr>\n",
              "    <tr>\n",
              "      <th>1</th>\n",
              "      <td>130</td>\n",
              "      <td>J101</td>\n",
              "      <td>LA</td>\n",
              "    </tr>\n",
              "    <tr>\n",
              "      <th>4</th>\n",
              "      <td>35</td>\n",
              "      <td>R104</td>\n",
              "      <td>CHI</td>\n",
              "    </tr>\n",
              "    <tr>\n",
              "      <th>0</th>\n",
              "      <td>100</td>\n",
              "      <td>B100</td>\n",
              "      <td>BOS</td>\n",
              "    </tr>\n",
              "  </tbody>\n",
              "</table>\n",
              "</div>\n",
              "      <button class=\"colab-df-convert\" onclick=\"convertToInteractive('df-e040a0e9-d6a5-47ce-850d-1f1c57ca8814')\"\n",
              "              title=\"Convert this dataframe to an interactive table.\"\n",
              "              style=\"display:none;\">\n",
              "        \n",
              "  <svg xmlns=\"http://www.w3.org/2000/svg\" height=\"24px\"viewBox=\"0 0 24 24\"\n",
              "       width=\"24px\">\n",
              "    <path d=\"M0 0h24v24H0V0z\" fill=\"none\"/>\n",
              "    <path d=\"M18.56 5.44l.94 2.06.94-2.06 2.06-.94-2.06-.94-.94-2.06-.94 2.06-2.06.94zm-11 1L8.5 8.5l.94-2.06 2.06-.94-2.06-.94L8.5 2.5l-.94 2.06-2.06.94zm10 10l.94 2.06.94-2.06 2.06-.94-2.06-.94-.94-2.06-.94 2.06-2.06.94z\"/><path d=\"M17.41 7.96l-1.37-1.37c-.4-.4-.92-.59-1.43-.59-.52 0-1.04.2-1.43.59L10.3 9.45l-7.72 7.72c-.78.78-.78 2.05 0 2.83L4 21.41c.39.39.9.59 1.41.59.51 0 1.02-.2 1.41-.59l7.78-7.78 2.81-2.81c.8-.78.8-2.07 0-2.86zM5.41 20L4 18.59l7.72-7.72 1.47 1.35L5.41 20z\"/>\n",
              "  </svg>\n",
              "      </button>\n",
              "      \n",
              "  <style>\n",
              "    .colab-df-container {\n",
              "      display:flex;\n",
              "      flex-wrap:wrap;\n",
              "      gap: 12px;\n",
              "    }\n",
              "\n",
              "    .colab-df-convert {\n",
              "      background-color: #E8F0FE;\n",
              "      border: none;\n",
              "      border-radius: 50%;\n",
              "      cursor: pointer;\n",
              "      display: none;\n",
              "      fill: #1967D2;\n",
              "      height: 32px;\n",
              "      padding: 0 0 0 0;\n",
              "      width: 32px;\n",
              "    }\n",
              "\n",
              "    .colab-df-convert:hover {\n",
              "      background-color: #E2EBFA;\n",
              "      box-shadow: 0px 1px 2px rgba(60, 64, 67, 0.3), 0px 1px 3px 1px rgba(60, 64, 67, 0.15);\n",
              "      fill: #174EA6;\n",
              "    }\n",
              "\n",
              "    [theme=dark] .colab-df-convert {\n",
              "      background-color: #3B4455;\n",
              "      fill: #D2E3FC;\n",
              "    }\n",
              "\n",
              "    [theme=dark] .colab-df-convert:hover {\n",
              "      background-color: #434B5C;\n",
              "      box-shadow: 0px 1px 3px 1px rgba(0, 0, 0, 0.15);\n",
              "      filter: drop-shadow(0px 1px 2px rgba(0, 0, 0, 0.3));\n",
              "      fill: #FFFFFF;\n",
              "    }\n",
              "  </style>\n",
              "\n",
              "      <script>\n",
              "        const buttonEl =\n",
              "          document.querySelector('#df-e040a0e9-d6a5-47ce-850d-1f1c57ca8814 button.colab-df-convert');\n",
              "        buttonEl.style.display =\n",
              "          google.colab.kernel.accessAllowed ? 'block' : 'none';\n",
              "\n",
              "        async function convertToInteractive(key) {\n",
              "          const element = document.querySelector('#df-e040a0e9-d6a5-47ce-850d-1f1c57ca8814');\n",
              "          const dataTable =\n",
              "            await google.colab.kernel.invokeFunction('convertToInteractive',\n",
              "                                                     [key], {});\n",
              "          if (!dataTable) return;\n",
              "\n",
              "          const docLinkHtml = 'Like what you see? Visit the ' +\n",
              "            '<a target=\"_blank\" href=https://colab.research.google.com/notebooks/data_table.ipynb>data table notebook</a>'\n",
              "            + ' to learn more about interactive tables.';\n",
              "          element.innerHTML = '';\n",
              "          dataTable['output_type'] = 'display_data';\n",
              "          await google.colab.output.renderOutput(dataTable, element);\n",
              "          const docLink = document.createElement('div');\n",
              "          docLink.innerHTML = docLinkHtml;\n",
              "          element.appendChild(docLink);\n",
              "        }\n",
              "      </script>\n",
              "    </div>\n",
              "  </div>\n",
              "  "
            ]
          },
          "metadata": {},
          "execution_count": 15
        }
      ],
      "source": [
        "df.sort_values([\"city\"],ascending = False)"
      ]
    },
    {
      "cell_type": "markdown",
      "metadata": {
        "id": "tY7HNEUDTwMW"
      },
      "source": [
        "**14. Which customer is in the last row of the DataFrame?**"
      ]
    },
    {
      "cell_type": "code",
      "execution_count": null,
      "metadata": {
        "colab": {
          "base_uri": "https://localhost:8080/"
        },
        "id": "GWlpTsEYTwL8",
        "outputId": "55d1cf6b-2783-40d4-ba89-072ab647b680"
      },
      "outputs": [
        {
          "output_type": "execute_result",
          "data": {
            "text/plain": [
              "sales                 35\n",
              "customer_account    R104\n",
              "city                 CHI\n",
              "Name: 4, dtype: object"
            ]
          },
          "metadata": {},
          "execution_count": 16
        }
      ],
      "source": [
        "df.loc[4]"
      ]
    },
    {
      "cell_type": "markdown",
      "metadata": {
        "id": "EPMQ69METwLz"
      },
      "source": [
        "15. Reorder the columns with customer in the first column"
      ]
    },
    {
      "cell_type": "code",
      "execution_count": null,
      "metadata": {
        "colab": {
          "base_uri": "https://localhost:8080/",
          "height": 201
        },
        "id": "ElacSbWiTwLk",
        "outputId": "5e959fe5-f6ee-48d3-d948-4b8c0444f1aa"
      },
      "outputs": [
        {
          "output_type": "execute_result",
          "data": {
            "text/plain": [
              "  customer_account  sales city\n",
              "0             B100    100  BOS\n",
              "1             J101    130   LA\n",
              "2             X102    119  NYC\n",
              "3             P103     92   SF\n",
              "4             R104     35  CHI"
            ],
            "text/html": [
              "\n",
              "  <div id=\"df-c9b6b054-9b95-4189-8daa-5e792eb96517\">\n",
              "    <div class=\"colab-df-container\">\n",
              "      <div>\n",
              "<style scoped>\n",
              "    .dataframe tbody tr th:only-of-type {\n",
              "        vertical-align: middle;\n",
              "    }\n",
              "\n",
              "    .dataframe tbody tr th {\n",
              "        vertical-align: top;\n",
              "    }\n",
              "\n",
              "    .dataframe thead th {\n",
              "        text-align: right;\n",
              "    }\n",
              "</style>\n",
              "<table border=\"1\" class=\"dataframe\">\n",
              "  <thead>\n",
              "    <tr style=\"text-align: right;\">\n",
              "      <th></th>\n",
              "      <th>customer_account</th>\n",
              "      <th>sales</th>\n",
              "      <th>city</th>\n",
              "    </tr>\n",
              "  </thead>\n",
              "  <tbody>\n",
              "    <tr>\n",
              "      <th>0</th>\n",
              "      <td>B100</td>\n",
              "      <td>100</td>\n",
              "      <td>BOS</td>\n",
              "    </tr>\n",
              "    <tr>\n",
              "      <th>1</th>\n",
              "      <td>J101</td>\n",
              "      <td>130</td>\n",
              "      <td>LA</td>\n",
              "    </tr>\n",
              "    <tr>\n",
              "      <th>2</th>\n",
              "      <td>X102</td>\n",
              "      <td>119</td>\n",
              "      <td>NYC</td>\n",
              "    </tr>\n",
              "    <tr>\n",
              "      <th>3</th>\n",
              "      <td>P103</td>\n",
              "      <td>92</td>\n",
              "      <td>SF</td>\n",
              "    </tr>\n",
              "    <tr>\n",
              "      <th>4</th>\n",
              "      <td>R104</td>\n",
              "      <td>35</td>\n",
              "      <td>CHI</td>\n",
              "    </tr>\n",
              "  </tbody>\n",
              "</table>\n",
              "</div>\n",
              "      <button class=\"colab-df-convert\" onclick=\"convertToInteractive('df-c9b6b054-9b95-4189-8daa-5e792eb96517')\"\n",
              "              title=\"Convert this dataframe to an interactive table.\"\n",
              "              style=\"display:none;\">\n",
              "        \n",
              "  <svg xmlns=\"http://www.w3.org/2000/svg\" height=\"24px\"viewBox=\"0 0 24 24\"\n",
              "       width=\"24px\">\n",
              "    <path d=\"M0 0h24v24H0V0z\" fill=\"none\"/>\n",
              "    <path d=\"M18.56 5.44l.94 2.06.94-2.06 2.06-.94-2.06-.94-.94-2.06-.94 2.06-2.06.94zm-11 1L8.5 8.5l.94-2.06 2.06-.94-2.06-.94L8.5 2.5l-.94 2.06-2.06.94zm10 10l.94 2.06.94-2.06 2.06-.94-2.06-.94-.94-2.06-.94 2.06-2.06.94z\"/><path d=\"M17.41 7.96l-1.37-1.37c-.4-.4-.92-.59-1.43-.59-.52 0-1.04.2-1.43.59L10.3 9.45l-7.72 7.72c-.78.78-.78 2.05 0 2.83L4 21.41c.39.39.9.59 1.41.59.51 0 1.02-.2 1.41-.59l7.78-7.78 2.81-2.81c.8-.78.8-2.07 0-2.86zM5.41 20L4 18.59l7.72-7.72 1.47 1.35L5.41 20z\"/>\n",
              "  </svg>\n",
              "      </button>\n",
              "      \n",
              "  <style>\n",
              "    .colab-df-container {\n",
              "      display:flex;\n",
              "      flex-wrap:wrap;\n",
              "      gap: 12px;\n",
              "    }\n",
              "\n",
              "    .colab-df-convert {\n",
              "      background-color: #E8F0FE;\n",
              "      border: none;\n",
              "      border-radius: 50%;\n",
              "      cursor: pointer;\n",
              "      display: none;\n",
              "      fill: #1967D2;\n",
              "      height: 32px;\n",
              "      padding: 0 0 0 0;\n",
              "      width: 32px;\n",
              "    }\n",
              "\n",
              "    .colab-df-convert:hover {\n",
              "      background-color: #E2EBFA;\n",
              "      box-shadow: 0px 1px 2px rgba(60, 64, 67, 0.3), 0px 1px 3px 1px rgba(60, 64, 67, 0.15);\n",
              "      fill: #174EA6;\n",
              "    }\n",
              "\n",
              "    [theme=dark] .colab-df-convert {\n",
              "      background-color: #3B4455;\n",
              "      fill: #D2E3FC;\n",
              "    }\n",
              "\n",
              "    [theme=dark] .colab-df-convert:hover {\n",
              "      background-color: #434B5C;\n",
              "      box-shadow: 0px 1px 3px 1px rgba(0, 0, 0, 0.15);\n",
              "      filter: drop-shadow(0px 1px 2px rgba(0, 0, 0, 0.3));\n",
              "      fill: #FFFFFF;\n",
              "    }\n",
              "  </style>\n",
              "\n",
              "      <script>\n",
              "        const buttonEl =\n",
              "          document.querySelector('#df-c9b6b054-9b95-4189-8daa-5e792eb96517 button.colab-df-convert');\n",
              "        buttonEl.style.display =\n",
              "          google.colab.kernel.accessAllowed ? 'block' : 'none';\n",
              "\n",
              "        async function convertToInteractive(key) {\n",
              "          const element = document.querySelector('#df-c9b6b054-9b95-4189-8daa-5e792eb96517');\n",
              "          const dataTable =\n",
              "            await google.colab.kernel.invokeFunction('convertToInteractive',\n",
              "                                                     [key], {});\n",
              "          if (!dataTable) return;\n",
              "\n",
              "          const docLinkHtml = 'Like what you see? Visit the ' +\n",
              "            '<a target=\"_blank\" href=https://colab.research.google.com/notebooks/data_table.ipynb>data table notebook</a>'\n",
              "            + ' to learn more about interactive tables.';\n",
              "          element.innerHTML = '';\n",
              "          dataTable['output_type'] = 'display_data';\n",
              "          await google.colab.output.renderOutput(dataTable, element);\n",
              "          const docLink = document.createElement('div');\n",
              "          docLink.innerHTML = docLinkHtml;\n",
              "          element.appendChild(docLink);\n",
              "        }\n",
              "      </script>\n",
              "    </div>\n",
              "  </div>\n",
              "  "
            ]
          },
          "metadata": {},
          "execution_count": 17
        }
      ],
      "source": [
        "df[[\"customer_account\",\"sales\",\"city\"]]"
      ]
    },
    {
      "cell_type": "markdown",
      "metadata": {
        "id": "mG5YiLy_2Ejg"
      },
      "source": [
        "16. **Write a Python program to add, subtract, multiple and divide two Pandas Series.**\n",
        "\n",
        "Sample Series: [2, 4, 6, 8, 10], [1, 3, 5, 7, 9]"
      ]
    },
    {
      "cell_type": "code",
      "execution_count": null,
      "metadata": {
        "id": "D4OUC-xd2Q0v"
      },
      "outputs": [],
      "source": [
        "a = pd.Series([2,4,6,8,10])\n",
        "b = pd.Series([1,3,5,7,9])"
      ]
    },
    {
      "cell_type": "markdown",
      "metadata": {
        "id": "xKUYtywVENVa"
      },
      "source": [
        "# Mathematical Manipulation of Two Series"
      ]
    },
    {
      "cell_type": "code",
      "execution_count": null,
      "metadata": {
        "colab": {
          "base_uri": "https://localhost:8080/"
        },
        "id": "Vq8-UBxfENVb",
        "outputId": "9f7741a0-63de-484a-e8db-7988851d9b02"
      },
      "outputs": [
        {
          "output_type": "stream",
          "name": "stdout",
          "text": [
            "Addition\n",
            "\n",
            "0     3\n",
            "1     7\n",
            "2    11\n",
            "3    15\n",
            "4    19\n",
            "dtype: int64\n",
            "\n",
            "----------------------------------------------------------------\n",
            "\n",
            "Subtraction\n",
            "\n",
            "0    1\n",
            "1    1\n",
            "2    1\n",
            "3    1\n",
            "4    1\n",
            "dtype: int64\n",
            "\n",
            "----------------------------------------------------------------\n",
            "\n",
            "Multiplication\n",
            "\n",
            "0     2\n",
            "1    12\n",
            "2    30\n",
            "3    56\n",
            "4    90\n",
            "dtype: int64\n",
            "\n",
            "----------------------------------------------------------------\n",
            "\n",
            "Division\n",
            "\n",
            "0    2.000000\n",
            "1    1.333333\n",
            "2    1.200000\n",
            "3    1.142857\n",
            "4    1.111111\n",
            "dtype: float64\n"
          ]
        }
      ],
      "source": [
        "print(\"Addition\\n\")\n",
        "print(a+b)\n",
        "\n",
        "print(\"\\n----------------------------------------------------------------\\n\")\n",
        "\n",
        "print(\"Subtraction\\n\")\n",
        "print(a-b)\n",
        "\n",
        "print(\"\\n----------------------------------------------------------------\\n\")\n",
        "\n",
        "print(\"Multiplication\\n\")\n",
        "print(a*b)\n",
        "\n",
        "print(\"\\n----------------------------------------------------------------\\n\")\n",
        "\n",
        "print(\"Division\\n\")\n",
        "print(a/b)"
      ]
    },
    {
      "cell_type": "markdown",
      "metadata": {
        "id": "9-umwkRG2RSg"
      },
      "source": [
        "17. **Write a Pandas program to sort a given Series.**\n",
        "\n",
        "*Sample Output:*\n",
        "\n",
        "Original Data Series:\n",
        "0 100\n",
        "\n",
        "1 200\n",
        "\n",
        "2 python\n",
        "\n",
        "3 300.12\n",
        "\n",
        "4 400\n",
        "\n",
        "Output Data Series:\n",
        "\n",
        "0 100\n",
        "\n",
        "1 200\n",
        "\n",
        "3 300.12\n",
        "\n",
        "4 400\n",
        "\n",
        "2 python\n"
      ]
    },
    {
      "cell_type": "code",
      "execution_count": null,
      "metadata": {
        "colab": {
          "base_uri": "https://localhost:8080/"
        },
        "id": "MQrFbKY621qm",
        "outputId": "f574aeaa-a2b9-44a5-a660-34fc289e941e"
      },
      "outputs": [
        {
          "output_type": "execute_result",
          "data": {
            "text/plain": [
              "0       100\n",
              "1       200\n",
              "2    python\n",
              "3    300.12\n",
              "4       400\n",
              "dtype: object"
            ]
          },
          "metadata": {},
          "execution_count": 20
        }
      ],
      "source": [
        "series = pd.Series([100,200,\"python\",300.12,400])\n",
        "pd.Series(series.sort_index())"
      ]
    },
    {
      "cell_type": "markdown",
      "metadata": {
        "id": "l5KwLZrj226y"
      },
      "source": [
        "18. **Write a Pandas program to compute the minimum, 25th percentile, median, 75th, and maximum of a given series.**"
      ]
    },
    {
      "cell_type": "code",
      "execution_count": null,
      "metadata": {
        "colab": {
          "base_uri": "https://localhost:8080/"
        },
        "id": "cyZztLro3ESP",
        "outputId": "67c435a5-7ac4-4203-a75e-67db484ce4b3"
      },
      "outputs": [
        {
          "output_type": "stream",
          "name": "stdout",
          "text": [
            "Minimum is :  10\n",
            "Maximum is :  100\n",
            "25th percentile is :  32.5\n",
            "Median is :  55.0\n",
            "75th percentile is :  77.5\n"
          ]
        }
      ],
      "source": [
        "stat = pd.Series([10,20,30,40,50,60,70,80,90,100])\n",
        "print(\"Minimum is : \", stat.min())\n",
        "print(\"Maximum is : \", stat.max())\n",
        "print(\"25th percentile is : \", stat.quantile(0.25))\n",
        "print(\"Median is : \", stat.quantile(0.50))\n",
        "print(\"75th percentile is : \", stat.quantile(0.75))"
      ]
    },
    {
      "cell_type": "markdown",
      "metadata": {
        "id": "PLTfRK043EvS"
      },
      "source": [
        "19.  **Write a Pandas program to find the positions of numbers that are multiples of 5 of a given series.**\n"
      ]
    },
    {
      "cell_type": "code",
      "execution_count": null,
      "metadata": {
        "colab": {
          "base_uri": "https://localhost:8080/"
        },
        "id": "Z1iOKCsD3hG0",
        "outputId": "4e0116a0-342a-4b20-e8f7-8d0caf2ba9b6"
      },
      "outputs": [
        {
          "output_type": "stream",
          "name": "stdout",
          "text": [
            "The positions are :  [0, 1, 2, 4, 7]\n"
          ]
        }
      ],
      "source": [
        "multiples = pd.Series([5,25,50,9,15,3,4,10])\n",
        "lst = [i for i in range(len(multiples)) if multiples[i]%5 == 0]\n",
        "print(\"The positions are : \", lst)"
      ]
    },
    {
      "cell_type": "markdown",
      "metadata": {
        "id": "Oihkq7jT3hlf"
      },
      "source": [
        "20. **Write a Pandas program to display a summary of the basic information about a specified DataFrame and its data.**\n",
        "\n",
        "*Sample Python dictionary data and list labels:*\n",
        "\n",
        "exam_data = {'name': ['Anastasia', 'Dima', 'Katherine', 'James', 'Emily', 'Michael', 'Matthew', 'Laura', 'Kevin', 'Jonas'],\n",
        "'score': [12.5, 9, 16.5, np.nan, 9, 20, 14.5, np.nan, 8, 19],\n",
        "'attempts': [1, 3, 2, 3, 2, 3, 1, 1, 2, 1],\n",
        "'qualify': ['yes', 'no', 'yes', 'no', 'no', 'yes', 'yes', 'no', 'no', 'yes']}\n",
        "labels = ['a', 'b', 'c', 'd', 'e', 'f', 'g', 'h', 'i', 'j']"
      ]
    },
    {
      "cell_type": "code",
      "execution_count": null,
      "metadata": {
        "colab": {
          "base_uri": "https://localhost:8080/",
          "height": 352
        },
        "id": "G7A1EtkF3zVW",
        "outputId": "58383fc4-4033-415f-a663-1f0332f93ea9"
      },
      "outputs": [
        {
          "output_type": "execute_result",
          "data": {
            "text/plain": [
              "        name  score  attempts qualify\n",
              "a  Anastasia   12.5         1     yes\n",
              "b       Dima    9.0         3      no\n",
              "c  Katherine   16.5         2     yes\n",
              "d      James    NaN         3      no\n",
              "e      Emily    9.0         2      no\n",
              "f    Michael   20.0         3     yes\n",
              "g    Matthew   14.5         1     yes\n",
              "h      Laura    NaN         1      no\n",
              "i      Kevin    8.0         2      no\n",
              "j      Jonas   19.0         1     yes"
            ],
            "text/html": [
              "\n",
              "  <div id=\"df-99c4ef3c-b993-467c-b866-9b88bc3b4b13\">\n",
              "    <div class=\"colab-df-container\">\n",
              "      <div>\n",
              "<style scoped>\n",
              "    .dataframe tbody tr th:only-of-type {\n",
              "        vertical-align: middle;\n",
              "    }\n",
              "\n",
              "    .dataframe tbody tr th {\n",
              "        vertical-align: top;\n",
              "    }\n",
              "\n",
              "    .dataframe thead th {\n",
              "        text-align: right;\n",
              "    }\n",
              "</style>\n",
              "<table border=\"1\" class=\"dataframe\">\n",
              "  <thead>\n",
              "    <tr style=\"text-align: right;\">\n",
              "      <th></th>\n",
              "      <th>name</th>\n",
              "      <th>score</th>\n",
              "      <th>attempts</th>\n",
              "      <th>qualify</th>\n",
              "    </tr>\n",
              "  </thead>\n",
              "  <tbody>\n",
              "    <tr>\n",
              "      <th>a</th>\n",
              "      <td>Anastasia</td>\n",
              "      <td>12.5</td>\n",
              "      <td>1</td>\n",
              "      <td>yes</td>\n",
              "    </tr>\n",
              "    <tr>\n",
              "      <th>b</th>\n",
              "      <td>Dima</td>\n",
              "      <td>9.0</td>\n",
              "      <td>3</td>\n",
              "      <td>no</td>\n",
              "    </tr>\n",
              "    <tr>\n",
              "      <th>c</th>\n",
              "      <td>Katherine</td>\n",
              "      <td>16.5</td>\n",
              "      <td>2</td>\n",
              "      <td>yes</td>\n",
              "    </tr>\n",
              "    <tr>\n",
              "      <th>d</th>\n",
              "      <td>James</td>\n",
              "      <td>NaN</td>\n",
              "      <td>3</td>\n",
              "      <td>no</td>\n",
              "    </tr>\n",
              "    <tr>\n",
              "      <th>e</th>\n",
              "      <td>Emily</td>\n",
              "      <td>9.0</td>\n",
              "      <td>2</td>\n",
              "      <td>no</td>\n",
              "    </tr>\n",
              "    <tr>\n",
              "      <th>f</th>\n",
              "      <td>Michael</td>\n",
              "      <td>20.0</td>\n",
              "      <td>3</td>\n",
              "      <td>yes</td>\n",
              "    </tr>\n",
              "    <tr>\n",
              "      <th>g</th>\n",
              "      <td>Matthew</td>\n",
              "      <td>14.5</td>\n",
              "      <td>1</td>\n",
              "      <td>yes</td>\n",
              "    </tr>\n",
              "    <tr>\n",
              "      <th>h</th>\n",
              "      <td>Laura</td>\n",
              "      <td>NaN</td>\n",
              "      <td>1</td>\n",
              "      <td>no</td>\n",
              "    </tr>\n",
              "    <tr>\n",
              "      <th>i</th>\n",
              "      <td>Kevin</td>\n",
              "      <td>8.0</td>\n",
              "      <td>2</td>\n",
              "      <td>no</td>\n",
              "    </tr>\n",
              "    <tr>\n",
              "      <th>j</th>\n",
              "      <td>Jonas</td>\n",
              "      <td>19.0</td>\n",
              "      <td>1</td>\n",
              "      <td>yes</td>\n",
              "    </tr>\n",
              "  </tbody>\n",
              "</table>\n",
              "</div>\n",
              "      <button class=\"colab-df-convert\" onclick=\"convertToInteractive('df-99c4ef3c-b993-467c-b866-9b88bc3b4b13')\"\n",
              "              title=\"Convert this dataframe to an interactive table.\"\n",
              "              style=\"display:none;\">\n",
              "        \n",
              "  <svg xmlns=\"http://www.w3.org/2000/svg\" height=\"24px\"viewBox=\"0 0 24 24\"\n",
              "       width=\"24px\">\n",
              "    <path d=\"M0 0h24v24H0V0z\" fill=\"none\"/>\n",
              "    <path d=\"M18.56 5.44l.94 2.06.94-2.06 2.06-.94-2.06-.94-.94-2.06-.94 2.06-2.06.94zm-11 1L8.5 8.5l.94-2.06 2.06-.94-2.06-.94L8.5 2.5l-.94 2.06-2.06.94zm10 10l.94 2.06.94-2.06 2.06-.94-2.06-.94-.94-2.06-.94 2.06-2.06.94z\"/><path d=\"M17.41 7.96l-1.37-1.37c-.4-.4-.92-.59-1.43-.59-.52 0-1.04.2-1.43.59L10.3 9.45l-7.72 7.72c-.78.78-.78 2.05 0 2.83L4 21.41c.39.39.9.59 1.41.59.51 0 1.02-.2 1.41-.59l7.78-7.78 2.81-2.81c.8-.78.8-2.07 0-2.86zM5.41 20L4 18.59l7.72-7.72 1.47 1.35L5.41 20z\"/>\n",
              "  </svg>\n",
              "      </button>\n",
              "      \n",
              "  <style>\n",
              "    .colab-df-container {\n",
              "      display:flex;\n",
              "      flex-wrap:wrap;\n",
              "      gap: 12px;\n",
              "    }\n",
              "\n",
              "    .colab-df-convert {\n",
              "      background-color: #E8F0FE;\n",
              "      border: none;\n",
              "      border-radius: 50%;\n",
              "      cursor: pointer;\n",
              "      display: none;\n",
              "      fill: #1967D2;\n",
              "      height: 32px;\n",
              "      padding: 0 0 0 0;\n",
              "      width: 32px;\n",
              "    }\n",
              "\n",
              "    .colab-df-convert:hover {\n",
              "      background-color: #E2EBFA;\n",
              "      box-shadow: 0px 1px 2px rgba(60, 64, 67, 0.3), 0px 1px 3px 1px rgba(60, 64, 67, 0.15);\n",
              "      fill: #174EA6;\n",
              "    }\n",
              "\n",
              "    [theme=dark] .colab-df-convert {\n",
              "      background-color: #3B4455;\n",
              "      fill: #D2E3FC;\n",
              "    }\n",
              "\n",
              "    [theme=dark] .colab-df-convert:hover {\n",
              "      background-color: #434B5C;\n",
              "      box-shadow: 0px 1px 3px 1px rgba(0, 0, 0, 0.15);\n",
              "      filter: drop-shadow(0px 1px 2px rgba(0, 0, 0, 0.3));\n",
              "      fill: #FFFFFF;\n",
              "    }\n",
              "  </style>\n",
              "\n",
              "      <script>\n",
              "        const buttonEl =\n",
              "          document.querySelector('#df-99c4ef3c-b993-467c-b866-9b88bc3b4b13 button.colab-df-convert');\n",
              "        buttonEl.style.display =\n",
              "          google.colab.kernel.accessAllowed ? 'block' : 'none';\n",
              "\n",
              "        async function convertToInteractive(key) {\n",
              "          const element = document.querySelector('#df-99c4ef3c-b993-467c-b866-9b88bc3b4b13');\n",
              "          const dataTable =\n",
              "            await google.colab.kernel.invokeFunction('convertToInteractive',\n",
              "                                                     [key], {});\n",
              "          if (!dataTable) return;\n",
              "\n",
              "          const docLinkHtml = 'Like what you see? Visit the ' +\n",
              "            '<a target=\"_blank\" href=https://colab.research.google.com/notebooks/data_table.ipynb>data table notebook</a>'\n",
              "            + ' to learn more about interactive tables.';\n",
              "          element.innerHTML = '';\n",
              "          dataTable['output_type'] = 'display_data';\n",
              "          await google.colab.output.renderOutput(dataTable, element);\n",
              "          const docLink = document.createElement('div');\n",
              "          docLink.innerHTML = docLinkHtml;\n",
              "          element.appendChild(docLink);\n",
              "        }\n",
              "      </script>\n",
              "    </div>\n",
              "  </div>\n",
              "  "
            ]
          },
          "metadata": {},
          "execution_count": 23
        }
      ],
      "source": [
        "exam_data = pd.DataFrame(data = {'name': ['Anastasia', 'Dima', 'Katherine', 'James', 'Emily', 'Michael', 'Matthew', 'Laura', 'Kevin', 'Jonas'],\n",
        "                                 'score': [12.5, 9, 16.5, np.nan, 9, 20, 14.5, np.nan, 8, 19],\n",
        "                                 'attempts': [1, 3, 2, 3, 2, 3, 1, 1, 2, 1],\n",
        "                             'qualify': ['yes', 'no', 'yes', 'no', 'no', 'yes', 'yes', 'no', 'no', 'yes']},index = ['a', 'b', 'c', 'd', 'e', 'f', 'g', 'h', 'i', 'j'])\n",
        "exam_data"
      ]
    },
    {
      "cell_type": "code",
      "execution_count": null,
      "metadata": {
        "colab": {
          "base_uri": "https://localhost:8080/"
        },
        "id": "RJto4VCtENVi",
        "outputId": "d931366d-3bbb-4077-b924-1ff0d0eb850d"
      },
      "outputs": [
        {
          "output_type": "stream",
          "name": "stdout",
          "text": [
            "<class 'pandas.core.frame.DataFrame'>\n",
            "Index: 10 entries, a to j\n",
            "Data columns (total 4 columns):\n",
            " #   Column    Non-Null Count  Dtype  \n",
            "---  ------    --------------  -----  \n",
            " 0   name      10 non-null     object \n",
            " 1   score     8 non-null      float64\n",
            " 2   attempts  10 non-null     int64  \n",
            " 3   qualify   10 non-null     object \n",
            "dtypes: float64(1), int64(1), object(2)\n",
            "memory usage: 400.0+ bytes\n"
          ]
        }
      ],
      "source": [
        "exam_data.info()"
      ]
    },
    {
      "cell_type": "markdown",
      "metadata": {
        "id": "nFmRb2WB3zzh"
      },
      "source": [
        "21. **Write a Pandas program to convert all the string values to upper, lower cases in a given pandas series. Also find the length of the string values.**"
      ]
    },
    {
      "cell_type": "code",
      "execution_count": null,
      "metadata": {
        "id": "UjFG27-e4Bl1"
      },
      "outputs": [],
      "source": [
        "exam_data[[\"name\",\"qualify\"]]= exam_data[[\"name\",\"qualify\"]].astype(str).apply(lambda col : col.str.upper())"
      ]
    },
    {
      "cell_type": "code",
      "execution_count": null,
      "metadata": {
        "colab": {
          "base_uri": "https://localhost:8080/",
          "height": 352
        },
        "id": "GM3-yg73ENVl",
        "outputId": "302960c4-1f2f-4c19-c65b-d2a9ed67ba6e"
      },
      "outputs": [
        {
          "output_type": "execute_result",
          "data": {
            "text/plain": [
              "        name qualify\n",
              "a  Anastasia     yes\n",
              "b       Dima      no\n",
              "c  Katherine     yes\n",
              "d      James      no\n",
              "e      Emily      no\n",
              "f    Michael     yes\n",
              "g    Matthew     yes\n",
              "h      Laura      no\n",
              "i      Kevin      no\n",
              "j      Jonas     yes"
            ],
            "text/html": [
              "\n",
              "  <div id=\"df-a7a59076-4ac3-4ee8-b29a-851da69ee91b\">\n",
              "    <div class=\"colab-df-container\">\n",
              "      <div>\n",
              "<style scoped>\n",
              "    .dataframe tbody tr th:only-of-type {\n",
              "        vertical-align: middle;\n",
              "    }\n",
              "\n",
              "    .dataframe tbody tr th {\n",
              "        vertical-align: top;\n",
              "    }\n",
              "\n",
              "    .dataframe thead th {\n",
              "        text-align: right;\n",
              "    }\n",
              "</style>\n",
              "<table border=\"1\" class=\"dataframe\">\n",
              "  <thead>\n",
              "    <tr style=\"text-align: right;\">\n",
              "      <th></th>\n",
              "      <th>name</th>\n",
              "      <th>qualify</th>\n",
              "    </tr>\n",
              "  </thead>\n",
              "  <tbody>\n",
              "    <tr>\n",
              "      <th>a</th>\n",
              "      <td>Anastasia</td>\n",
              "      <td>yes</td>\n",
              "    </tr>\n",
              "    <tr>\n",
              "      <th>b</th>\n",
              "      <td>Dima</td>\n",
              "      <td>no</td>\n",
              "    </tr>\n",
              "    <tr>\n",
              "      <th>c</th>\n",
              "      <td>Katherine</td>\n",
              "      <td>yes</td>\n",
              "    </tr>\n",
              "    <tr>\n",
              "      <th>d</th>\n",
              "      <td>James</td>\n",
              "      <td>no</td>\n",
              "    </tr>\n",
              "    <tr>\n",
              "      <th>e</th>\n",
              "      <td>Emily</td>\n",
              "      <td>no</td>\n",
              "    </tr>\n",
              "    <tr>\n",
              "      <th>f</th>\n",
              "      <td>Michael</td>\n",
              "      <td>yes</td>\n",
              "    </tr>\n",
              "    <tr>\n",
              "      <th>g</th>\n",
              "      <td>Matthew</td>\n",
              "      <td>yes</td>\n",
              "    </tr>\n",
              "    <tr>\n",
              "      <th>h</th>\n",
              "      <td>Laura</td>\n",
              "      <td>no</td>\n",
              "    </tr>\n",
              "    <tr>\n",
              "      <th>i</th>\n",
              "      <td>Kevin</td>\n",
              "      <td>no</td>\n",
              "    </tr>\n",
              "    <tr>\n",
              "      <th>j</th>\n",
              "      <td>Jonas</td>\n",
              "      <td>yes</td>\n",
              "    </tr>\n",
              "  </tbody>\n",
              "</table>\n",
              "</div>\n",
              "      <button class=\"colab-df-convert\" onclick=\"convertToInteractive('df-a7a59076-4ac3-4ee8-b29a-851da69ee91b')\"\n",
              "              title=\"Convert this dataframe to an interactive table.\"\n",
              "              style=\"display:none;\">\n",
              "        \n",
              "  <svg xmlns=\"http://www.w3.org/2000/svg\" height=\"24px\"viewBox=\"0 0 24 24\"\n",
              "       width=\"24px\">\n",
              "    <path d=\"M0 0h24v24H0V0z\" fill=\"none\"/>\n",
              "    <path d=\"M18.56 5.44l.94 2.06.94-2.06 2.06-.94-2.06-.94-.94-2.06-.94 2.06-2.06.94zm-11 1L8.5 8.5l.94-2.06 2.06-.94-2.06-.94L8.5 2.5l-.94 2.06-2.06.94zm10 10l.94 2.06.94-2.06 2.06-.94-2.06-.94-.94-2.06-.94 2.06-2.06.94z\"/><path d=\"M17.41 7.96l-1.37-1.37c-.4-.4-.92-.59-1.43-.59-.52 0-1.04.2-1.43.59L10.3 9.45l-7.72 7.72c-.78.78-.78 2.05 0 2.83L4 21.41c.39.39.9.59 1.41.59.51 0 1.02-.2 1.41-.59l7.78-7.78 2.81-2.81c.8-.78.8-2.07 0-2.86zM5.41 20L4 18.59l7.72-7.72 1.47 1.35L5.41 20z\"/>\n",
              "  </svg>\n",
              "      </button>\n",
              "      \n",
              "  <style>\n",
              "    .colab-df-container {\n",
              "      display:flex;\n",
              "      flex-wrap:wrap;\n",
              "      gap: 12px;\n",
              "    }\n",
              "\n",
              "    .colab-df-convert {\n",
              "      background-color: #E8F0FE;\n",
              "      border: none;\n",
              "      border-radius: 50%;\n",
              "      cursor: pointer;\n",
              "      display: none;\n",
              "      fill: #1967D2;\n",
              "      height: 32px;\n",
              "      padding: 0 0 0 0;\n",
              "      width: 32px;\n",
              "    }\n",
              "\n",
              "    .colab-df-convert:hover {\n",
              "      background-color: #E2EBFA;\n",
              "      box-shadow: 0px 1px 2px rgba(60, 64, 67, 0.3), 0px 1px 3px 1px rgba(60, 64, 67, 0.15);\n",
              "      fill: #174EA6;\n",
              "    }\n",
              "\n",
              "    [theme=dark] .colab-df-convert {\n",
              "      background-color: #3B4455;\n",
              "      fill: #D2E3FC;\n",
              "    }\n",
              "\n",
              "    [theme=dark] .colab-df-convert:hover {\n",
              "      background-color: #434B5C;\n",
              "      box-shadow: 0px 1px 3px 1px rgba(0, 0, 0, 0.15);\n",
              "      filter: drop-shadow(0px 1px 2px rgba(0, 0, 0, 0.3));\n",
              "      fill: #FFFFFF;\n",
              "    }\n",
              "  </style>\n",
              "\n",
              "      <script>\n",
              "        const buttonEl =\n",
              "          document.querySelector('#df-a7a59076-4ac3-4ee8-b29a-851da69ee91b button.colab-df-convert');\n",
              "        buttonEl.style.display =\n",
              "          google.colab.kernel.accessAllowed ? 'block' : 'none';\n",
              "\n",
              "        async function convertToInteractive(key) {\n",
              "          const element = document.querySelector('#df-a7a59076-4ac3-4ee8-b29a-851da69ee91b');\n",
              "          const dataTable =\n",
              "            await google.colab.kernel.invokeFunction('convertToInteractive',\n",
              "                                                     [key], {});\n",
              "          if (!dataTable) return;\n",
              "\n",
              "          const docLinkHtml = 'Like what you see? Visit the ' +\n",
              "            '<a target=\"_blank\" href=https://colab.research.google.com/notebooks/data_table.ipynb>data table notebook</a>'\n",
              "            + ' to learn more about interactive tables.';\n",
              "          element.innerHTML = '';\n",
              "          dataTable['output_type'] = 'display_data';\n",
              "          await google.colab.output.renderOutput(dataTable, element);\n",
              "          const docLink = document.createElement('div');\n",
              "          docLink.innerHTML = docLinkHtml;\n",
              "          element.appendChild(docLink);\n",
              "        }\n",
              "      </script>\n",
              "    </div>\n",
              "  </div>\n",
              "  "
            ]
          },
          "metadata": {},
          "execution_count": 25
        }
      ],
      "source": [
        "exam_data[[\"name\",\"qualify\"]]"
      ]
    },
    {
      "cell_type": "code",
      "execution_count": null,
      "metadata": {
        "colab": {
          "base_uri": "https://localhost:8080/",
          "height": 363
        },
        "id": "BLkCFJumENVl",
        "outputId": "796504f9-9754-4cd2-84b5-f34c6d99c429"
      },
      "outputs": [
        {
          "output_type": "execute_result",
          "data": {
            "text/plain": [
              "        name qualify\n",
              "a  anastasia     yes\n",
              "b       dima      no\n",
              "c  katherine     yes\n",
              "d      james      no\n",
              "e      emily      no\n",
              "f    michael     yes\n",
              "g    matthew     yes\n",
              "h      laura      no\n",
              "i      kevin      no\n",
              "j      jonas     yes"
            ],
            "text/html": [
              "\n",
              "  <div id=\"df-bb2a991b-70d3-4cc8-a033-535b743fc80a\">\n",
              "    <div class=\"colab-df-container\">\n",
              "      <div>\n",
              "<style scoped>\n",
              "    .dataframe tbody tr th:only-of-type {\n",
              "        vertical-align: middle;\n",
              "    }\n",
              "\n",
              "    .dataframe tbody tr th {\n",
              "        vertical-align: top;\n",
              "    }\n",
              "\n",
              "    .dataframe thead th {\n",
              "        text-align: right;\n",
              "    }\n",
              "</style>\n",
              "<table border=\"1\" class=\"dataframe\">\n",
              "  <thead>\n",
              "    <tr style=\"text-align: right;\">\n",
              "      <th></th>\n",
              "      <th>name</th>\n",
              "      <th>qualify</th>\n",
              "    </tr>\n",
              "  </thead>\n",
              "  <tbody>\n",
              "    <tr>\n",
              "      <th>a</th>\n",
              "      <td>anastasia</td>\n",
              "      <td>yes</td>\n",
              "    </tr>\n",
              "    <tr>\n",
              "      <th>b</th>\n",
              "      <td>dima</td>\n",
              "      <td>no</td>\n",
              "    </tr>\n",
              "    <tr>\n",
              "      <th>c</th>\n",
              "      <td>katherine</td>\n",
              "      <td>yes</td>\n",
              "    </tr>\n",
              "    <tr>\n",
              "      <th>d</th>\n",
              "      <td>james</td>\n",
              "      <td>no</td>\n",
              "    </tr>\n",
              "    <tr>\n",
              "      <th>e</th>\n",
              "      <td>emily</td>\n",
              "      <td>no</td>\n",
              "    </tr>\n",
              "    <tr>\n",
              "      <th>f</th>\n",
              "      <td>michael</td>\n",
              "      <td>yes</td>\n",
              "    </tr>\n",
              "    <tr>\n",
              "      <th>g</th>\n",
              "      <td>matthew</td>\n",
              "      <td>yes</td>\n",
              "    </tr>\n",
              "    <tr>\n",
              "      <th>h</th>\n",
              "      <td>laura</td>\n",
              "      <td>no</td>\n",
              "    </tr>\n",
              "    <tr>\n",
              "      <th>i</th>\n",
              "      <td>kevin</td>\n",
              "      <td>no</td>\n",
              "    </tr>\n",
              "    <tr>\n",
              "      <th>j</th>\n",
              "      <td>jonas</td>\n",
              "      <td>yes</td>\n",
              "    </tr>\n",
              "  </tbody>\n",
              "</table>\n",
              "</div>\n",
              "      <button class=\"colab-df-convert\" onclick=\"convertToInteractive('df-bb2a991b-70d3-4cc8-a033-535b743fc80a')\"\n",
              "              title=\"Convert this dataframe to an interactive table.\"\n",
              "              style=\"display:none;\">\n",
              "        \n",
              "  <svg xmlns=\"http://www.w3.org/2000/svg\" height=\"24px\"viewBox=\"0 0 24 24\"\n",
              "       width=\"24px\">\n",
              "    <path d=\"M0 0h24v24H0V0z\" fill=\"none\"/>\n",
              "    <path d=\"M18.56 5.44l.94 2.06.94-2.06 2.06-.94-2.06-.94-.94-2.06-.94 2.06-2.06.94zm-11 1L8.5 8.5l.94-2.06 2.06-.94-2.06-.94L8.5 2.5l-.94 2.06-2.06.94zm10 10l.94 2.06.94-2.06 2.06-.94-2.06-.94-.94-2.06-.94 2.06-2.06.94z\"/><path d=\"M17.41 7.96l-1.37-1.37c-.4-.4-.92-.59-1.43-.59-.52 0-1.04.2-1.43.59L10.3 9.45l-7.72 7.72c-.78.78-.78 2.05 0 2.83L4 21.41c.39.39.9.59 1.41.59.51 0 1.02-.2 1.41-.59l7.78-7.78 2.81-2.81c.8-.78.8-2.07 0-2.86zM5.41 20L4 18.59l7.72-7.72 1.47 1.35L5.41 20z\"/>\n",
              "  </svg>\n",
              "      </button>\n",
              "      \n",
              "  <style>\n",
              "    .colab-df-container {\n",
              "      display:flex;\n",
              "      flex-wrap:wrap;\n",
              "      gap: 12px;\n",
              "    }\n",
              "\n",
              "    .colab-df-convert {\n",
              "      background-color: #E8F0FE;\n",
              "      border: none;\n",
              "      border-radius: 50%;\n",
              "      cursor: pointer;\n",
              "      display: none;\n",
              "      fill: #1967D2;\n",
              "      height: 32px;\n",
              "      padding: 0 0 0 0;\n",
              "      width: 32px;\n",
              "    }\n",
              "\n",
              "    .colab-df-convert:hover {\n",
              "      background-color: #E2EBFA;\n",
              "      box-shadow: 0px 1px 2px rgba(60, 64, 67, 0.3), 0px 1px 3px 1px rgba(60, 64, 67, 0.15);\n",
              "      fill: #174EA6;\n",
              "    }\n",
              "\n",
              "    [theme=dark] .colab-df-convert {\n",
              "      background-color: #3B4455;\n",
              "      fill: #D2E3FC;\n",
              "    }\n",
              "\n",
              "    [theme=dark] .colab-df-convert:hover {\n",
              "      background-color: #434B5C;\n",
              "      box-shadow: 0px 1px 3px 1px rgba(0, 0, 0, 0.15);\n",
              "      filter: drop-shadow(0px 1px 2px rgba(0, 0, 0, 0.3));\n",
              "      fill: #FFFFFF;\n",
              "    }\n",
              "  </style>\n",
              "\n",
              "      <script>\n",
              "        const buttonEl =\n",
              "          document.querySelector('#df-bb2a991b-70d3-4cc8-a033-535b743fc80a button.colab-df-convert');\n",
              "        buttonEl.style.display =\n",
              "          google.colab.kernel.accessAllowed ? 'block' : 'none';\n",
              "\n",
              "        async function convertToInteractive(key) {\n",
              "          const element = document.querySelector('#df-bb2a991b-70d3-4cc8-a033-535b743fc80a');\n",
              "          const dataTable =\n",
              "            await google.colab.kernel.invokeFunction('convertToInteractive',\n",
              "                                                     [key], {});\n",
              "          if (!dataTable) return;\n",
              "\n",
              "          const docLinkHtml = 'Like what you see? Visit the ' +\n",
              "            '<a target=\"_blank\" href=https://colab.research.google.com/notebooks/data_table.ipynb>data table notebook</a>'\n",
              "            + ' to learn more about interactive tables.';\n",
              "          element.innerHTML = '';\n",
              "          dataTable['output_type'] = 'display_data';\n",
              "          await google.colab.output.renderOutput(dataTable, element);\n",
              "          const docLink = document.createElement('div');\n",
              "          docLink.innerHTML = docLinkHtml;\n",
              "          element.appendChild(docLink);\n",
              "        }\n",
              "      </script>\n",
              "    </div>\n",
              "  </div>\n",
              "  "
            ]
          },
          "metadata": {},
          "execution_count": 27
        }
      ],
      "source": [
        "exam_data[[\"name\",\"qualify\"]].astype(str).apply(lambda col : col.str.lower())"
      ]
    },
    {
      "cell_type": "markdown",
      "metadata": {
        "id": "ACbbZmJ24B5y"
      },
      "source": [
        "22. **Write a Pandas program to check whether only numeric values present in a given column of a DataFrame.**"
      ]
    },
    {
      "cell_type": "code",
      "execution_count": null,
      "metadata": {
        "colab": {
          "base_uri": "https://localhost:8080/"
        },
        "id": "DwLsUJiKENVn",
        "outputId": "40931d45-6106-4b2a-ae84-c6418b83b6ad"
      },
      "outputs": [
        {
          "output_type": "stream",
          "name": "stdout",
          "text": [
            "        name  score  attempts qualify\n",
            "a  ANASTASIA   12.5         1     YES\n",
            "b       DIMA    9.0         3      NO\n",
            "c  KATHERINE   16.5         2     YES\n",
            "d      JAMES    NaN         3      NO\n",
            "e      EMILY    9.0         2      NO\n",
            "f    MICHAEL   20.0         3     YES\n",
            "g    MATTHEW   14.5         1     YES\n",
            "h      LAURA    NaN         1      NO\n",
            "i      KEVIN    8.0         2      NO\n",
            "j      JONAS   19.0         1     YES\n",
            "----------------------------------------------------------------------------------------------\n",
            "        name  score  attempts qualify  is_numeric\n",
            "a  ANASTASIA   12.5         1     YES        True\n",
            "b       DIMA    9.0         3      NO        True\n",
            "c  KATHERINE   16.5         2     YES        True\n",
            "d      JAMES    NaN         3      NO        True\n",
            "e      EMILY    9.0         2      NO        True\n",
            "f    MICHAEL   20.0         3     YES        True\n",
            "g    MATTHEW   14.5         1     YES        True\n",
            "h      LAURA    NaN         1      NO        True\n",
            "i      KEVIN    8.0         2      NO        True\n",
            "j      JONAS   19.0         1     YES        True\n"
          ]
        }
      ],
      "source": [
        "exam  = {\n",
        "        'score': ['12', '9', '16', 'np.nan','9', '20', '14',' A', '8', '19']}\n",
        "labels = ['a', 'b', 'c', 'd', 'e', 'f', 'g', 'h', 'i', 'j']\n",
        "df = pd.DataFrame(exam_data , index=labels)\n",
        "print(df)\n",
        "df['is_numeric'] = pd.api.types.is_numeric_dtype(df[\"score\"])\n",
        "\n",
        "print(\"----------------------------------------------------------------------------------------------\")\n",
        "\n",
        "print(df)"
      ]
    }
  ],
  "metadata": {
    "colab": {
      "provenance": [],
      "include_colab_link": true
    },
    "kernelspec": {
      "display_name": "Python 3 (ipykernel)",
      "language": "python",
      "name": "python3"
    },
    "language_info": {
      "codemirror_mode": {
        "name": "ipython",
        "version": 3
      },
      "file_extension": ".py",
      "mimetype": "text/x-python",
      "name": "python",
      "nbconvert_exporter": "python",
      "pygments_lexer": "ipython3",
      "version": "3.9.12"
    }
  },
  "nbformat": 4,
  "nbformat_minor": 0
}